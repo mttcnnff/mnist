{
 "cells": [
  {
   "cell_type": "code",
   "execution_count": 0,
   "metadata": {
    "colab": {},
    "colab_type": "code",
    "id": "jSG68G07feOc"
   },
   "outputs": [],
   "source": [
    "import torch\n",
    "import time\n",
    "from torchvision import datasets, transforms\n",
    "import torch.nn as nn        \n",
    "import torch.nn.functional as F\n",
    "import torch.optim as optim\n",
    "from IPython.display import Image, display"
   ]
  },
  {
   "cell_type": "code",
   "execution_count": 0,
   "metadata": {
    "colab": {},
    "colab_type": "code",
    "id": "HBMe03cvfeOh"
   },
   "outputs": [],
   "source": [
    "class Hyperparameters():\n",
    "    def __init__(self, train_bs, test_bs, lr, momentum, epochs):\n",
    "        self.train_bs = train_bs\n",
    "        self.test_bs = test_bs\n",
    "        self.lr = lr\n",
    "        self.momentum = momentum\n",
    "        self.epochs = epochs"
   ]
  },
  {
   "cell_type": "code",
   "execution_count": 0,
   "metadata": {
    "colab": {},
    "colab_type": "code",
    "id": "qC1iKueLfeOj"
   },
   "outputs": [],
   "source": [
    "# defines linear classifier model \n",
    "# 400 -> 10 Linear Function -> log_softmax\n",
    "class LinearModel(nn.Module):\n",
    "    hyperparameters = Hyperparameters(100, 100, 0.01, 0.5, 5)\n",
    "    def __init__(self):\n",
    "        # define layers of net\n",
    "        super(LinearModel, self).__init__()\n",
    "        self.fc1 = nn.Linear(400, 10)\n",
    "        \n",
    "        \n",
    "    def forward(self, x):\n",
    "        # define the forward prop function\n",
    "        x = self.fc1(x)\n",
    "        return F.log_softmax(x, dim=1)\n",
    "    \n",
    "    def preprocess(self, data, bs):\n",
    "        # preprocess input data\n",
    "        return data.view(bs, 400)"
   ]
  },
  {
   "cell_type": "code",
   "execution_count": 0,
   "metadata": {
    "colab": {},
    "colab_type": "code",
    "id": "e33TIhKTfeOm"
   },
   "outputs": [],
   "source": [
    "class HiddenModel(nn.Module):\n",
    "    hyperparameters = Hyperparameters(100, 100, 0.01, 0.6, 10)\n",
    "    def __init__(self):\n",
    "        super(HiddenModel, self).__init__()\n",
    "        self.fc1 = nn.Linear(784, 800)\n",
    "        self.fc2 = nn.Linear(800, 10)\n",
    "    \n",
    "    def forward(self, x):\n",
    "        x = F.relu(self.fc1(x))\n",
    "        x = F.relu(self.fc2(x))\n",
    "        return F.log_softmax(x, dim=1)\n",
    "    \n",
    "    def preprocess(self, data, bs):\n",
    "        # preprocess input data\n",
    "        return data.view(bs, 784)"
   ]
  },
  {
   "cell_type": "code",
   "execution_count": 0,
   "metadata": {
    "colab": {},
    "colab_type": "code",
    "id": "xrKMOzKufeOr"
   },
   "outputs": [],
   "source": [
    "MODELS = {\n",
    "    'Linear': LinearModel,\n",
    "    'Hidden': HiddenModel\n",
    "}"
   ]
  },
  {
   "cell_type": "code",
   "execution_count": 0,
   "metadata": {
    "colab": {},
    "colab_type": "code",
    "id": "tizOjN6cfeOt"
   },
   "outputs": [],
   "source": [
    "# returns training data in tuple where \n",
    "# tuple[0] = X =  [1,20,20] tensor (20x20 input image)\n",
    "# tuple[1] = Y = [] tensor (Scalar output value)\n",
    "def get_train_data():\n",
    "    transform = transforms.Compose([\n",
    "        transforms.ToTensor(),\n",
    "        transforms.Normalize((0.1307,), (0.3081,))\n",
    "    ])\n",
    "    return datasets.MNIST('./data', \n",
    "                          train=True, \n",
    "                          transform=transform, \n",
    "                          target_transform=None, \n",
    "                          download=True)"
   ]
  },
  {
   "cell_type": "code",
   "execution_count": 0,
   "metadata": {
    "colab": {},
    "colab_type": "code",
    "id": "Eu67GOm1feOw"
   },
   "outputs": [],
   "source": [
    "# returns data batched according to specified batch size\n",
    "def batch_data(data, batch_size):\n",
    "    return torch.utils.data.DataLoader(\n",
    "        data, \n",
    "        pin_memory=True,\n",
    "        batch_size=batch_size, \n",
    "        shuffle=True)\n",
    "    "
   ]
  },
  {
   "cell_type": "code",
   "execution_count": 0,
   "metadata": {
    "colab": {},
    "colab_type": "code",
    "id": "_9edTbNefeOy"
   },
   "outputs": [],
   "source": [
    "# returns testing data in tuple where \n",
    "# tuple[0] = X =  [1,20,20] tensor (20x20 input image)\n",
    "# tuple[1] = Y = [] tensor (Scalar output value)\n",
    "def get_test_data():\n",
    "    transform=transforms.Compose([\n",
    "        transforms.ToTensor(),\n",
    "        transforms.Normalize((0.1307,), (0.3081,))\n",
    "    ])\n",
    "    return datasets.MNIST('./data',\n",
    "                          train=False,\n",
    "                          transform=transform,\n",
    "                          target_transform=None,\n",
    "                          download=True)"
   ]
  },
  {
   "cell_type": "code",
   "execution_count": 0,
   "metadata": {
    "colab": {},
    "colab_type": "code",
    "id": "YpGJXQn-feO1"
   },
   "outputs": [],
   "source": [
    "def train(model, device, train_batches, optimizer, epoch):\n",
    "    model.train() # put model in training mode\n",
    "    \n",
    "    for batch_idx, (data, target) in enumerate(train_batches):\n",
    "        batch_size = len(data) # Question: Is this weird????\n",
    "        data = model.preprocess(data, batch_size) # reshape data to be 1 * 400\n",
    "        data, target = data.to(device), target.to(device)\n",
    "        optimizer.zero_grad()\n",
    "        output = model(data)\n",
    "        loss = F.nll_loss(output, target) # negative log likelihood loss\n",
    "        loss.backward()\n",
    "        optimizer.step()\n",
    "                \n",
    "        if batch_idx % 10 == 0:\n",
    "            print('Train Epoch: {} [{}/{} ({:.0f}%)]\\tLoss: {:.6f}'.format(\n",
    "                epoch, batch_idx * batch_size, len(train_batches.dataset),\n",
    "                100. * batch_idx / len(train_batches), loss.item()))"
   ]
  },
  {
   "cell_type": "code",
   "execution_count": 0,
   "metadata": {
    "colab": {},
    "colab_type": "code",
    "id": "Wn1lF7CRfeO3"
   },
   "outputs": [],
   "source": [
    "def test(model, device, test_batches):\n",
    "    #print (\"--- Testing ---\")\n",
    "    model.eval()\n",
    "    test_loss = 0\n",
    "    correct = 0\n",
    "    with torch.no_grad():\n",
    "        for batch_idx, (data, target) in enumerate(test_batches):\n",
    "            batch_size = len(data)\n",
    "            data = model.preprocess(data, batch_size)\n",
    "            data, target = data.to(device), target.to(device)\n",
    "            output = model(data)\n",
    "            test_loss += F.nll_loss(output, target, reduction='sum').item() # sum up batch loss\n",
    "            pred = output.argmax(dim=1, keepdim=True) # get the index of the max log-probability\n",
    "            correct += pred.eq(target.view_as(pred)).sum().item()\n",
    "\n",
    "    test_loss /= len(test_batches.dataset)\n",
    "\n",
    "    print('\\nAverage loss: {:.4f}, Accuracy: {}/{} ({:.0f}%)\\n'.format(\n",
    "        test_loss, correct, len(test_batches.dataset),\n",
    "        100. * correct / len(test_batches.dataset)))"
   ]
  },
  {
   "cell_type": "code",
   "execution_count": 0,
   "metadata": {
    "colab": {},
    "colab_type": "code",
    "id": "8mFiHObefeO6"
   },
   "outputs": [],
   "source": [
    "def main():\n",
    "    use_cuda = torch.cuda.is_available()\n",
    "    device = torch.device(\"cuda\") if use_cuda else torch.device(\"cpu\")\n",
    "    model_name = 'Hidden'\n",
    "    model = MODELS[model_name]()\n",
    "    \n",
    "    hyperparams = model.hyperparameters\n",
    "    train_bs = hyperparams.train_bs # training batch size\n",
    "    test_bs = hyperparams.test_bs # test batch size\n",
    "    lr = hyperparams.lr # learning rate\n",
    "    momentum = hyperparams.momentum # momentum ??\n",
    "    epochs = hyperparams.epochs # epochs\n",
    "    \n",
    "    \n",
    "    train_data = get_train_data()\n",
    "    train_batches = batch_data(train_data, train_bs)\n",
    "    \n",
    "    test_data = get_test_data()\n",
    "    test_batches = batch_data(test_data, test_bs)\n",
    "    \n",
    "    \n",
    "    model = model.to(device) # load model to cpu\n",
    "    optimizer = optim.SGD(model.parameters(), lr=lr, momentum=momentum)\n",
    "\n",
    "    start = time.perf_counter()\n",
    "    for epoch in range(1, epochs + 1):\n",
    "        train(model, device, train_batches, optimizer, epoch)\n",
    "        test(model, device, test_batches)\n",
    "    end = time.perf_counter()\n",
    "    print('Done!: ' + str(end-start))\n",
    "\n",
    "    #torch.save(model, './linearclassifier.pth')\n",
    "    "
   ]
  },
  {
   "cell_type": "code",
   "execution_count": 57,
   "metadata": {
    "colab": {
     "base_uri": "https://localhost:8080/",
     "height": 34
    },
    "colab_type": "code",
    "id": "d54AvpJZfeO8",
    "outputId": "27a1af42-1d64-45b5-89ee-dc554f54d58a",
    "scrolled": true
   },
   "outputs": [
    {
     "name": "stdout",
     "output_type": "stream",
     "text": [
      "Done!: 90.48243811599991\n"
     ]
    }
   ],
   "source": [
    "main()"
   ]
  },
  {
   "cell_type": "code",
   "execution_count": 0,
   "metadata": {
    "colab": {},
    "colab_type": "code",
    "id": "hgT9YWEbfePD",
    "outputId": "0c3cfcf5-565a-46f2-ab1c-29f307bf55f2"
   },
   "outputs": [
    {
     "data": {
      "text/plain": [
       "torch.Size([1, 28, 28])"
      ]
     },
     "execution_count": 82,
     "metadata": {
      "tags": []
     },
     "output_type": "execute_result"
    }
   ],
   "source": [
    "get_train_data()[0]"
   ]
  },
  {
   "cell_type": "code",
   "execution_count": 5,
   "metadata": {
    "colab": {
     "base_uri": "https://localhost:8080/",
     "height": 34
    },
    "colab_type": "code",
    "id": "4onzsdH_fePG",
    "outputId": "7327de25-3961-4674-b19f-51c492b6424a"
   },
   "outputs": [
    {
     "data": {
      "text/plain": [
       "True"
      ]
     },
     "execution_count": 5,
     "metadata": {
      "tags": []
     },
     "output_type": "execute_result"
    }
   ],
   "source": [
    "torch.cuda.is_available()\n"
   ]
  },
  {
   "cell_type": "code",
   "execution_count": 0,
   "metadata": {
    "colab": {},
    "colab_type": "code",
    "id": "qoajoN72hjlW"
   },
   "outputs": [],
   "source": []
  }
 ],
 "metadata": {
  "accelerator": "GPU",
  "colab": {
   "name": "784_800_10.ipynb",
   "provenance": [],
   "version": "0.3.2"
  },
  "kernelspec": {
   "display_name": "Python 3",
   "language": "python",
   "name": "python3"
  },
  "language_info": {
   "codemirror_mode": {
    "name": "ipython",
    "version": 3
   },
   "file_extension": ".py",
   "mimetype": "text/x-python",
   "name": "python",
   "nbconvert_exporter": "python",
   "pygments_lexer": "ipython3",
   "version": "3.6.2"
  }
 },
 "nbformat": 4,
 "nbformat_minor": 1
}
